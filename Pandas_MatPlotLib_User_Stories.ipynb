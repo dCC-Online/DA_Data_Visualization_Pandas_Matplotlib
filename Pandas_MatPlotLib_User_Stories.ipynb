{
 "cells": [
  {
   "cell_type": "markdown",
   "metadata": {},
   "source": [
    "## Visualizing Data with Pandas and MatPlotLib\n"
   ]
  },
  {
   "cell_type": "markdown",
   "metadata": {},
   "source": [
    "### As a Data Analyst, I want to set up the proper imports so I have access to the Pandas and MatPlotLib libraries"
   ]
  },
  {
   "cell_type": "code",
   "execution_count": null,
   "metadata": {},
   "outputs": [],
   "source": []
  },
  {
   "cell_type": "markdown",
   "metadata": {},
   "source": [
    "### As a Data Analyst, I want to import and store the `ufo_sightings.csv` file in a variable"
   ]
  },
  {
   "cell_type": "code",
   "execution_count": null,
   "metadata": {},
   "outputs": [],
   "source": []
  },
  {
   "cell_type": "markdown",
   "metadata": {},
   "source": [
    "### As a Data Analyst, I want to ensure my DataFrame is cleaned by removing any **null** values"
   ]
  },
  {
   "cell_type": "code",
   "execution_count": null,
   "metadata": {},
   "outputs": [],
   "source": []
  },
  {
   "cell_type": "markdown",
   "metadata": {},
   "source": [
    "### As a Data Analyst, I want to filter my DataFrame to remove any information that is not related to my analysis\n",
    "* This will include **dropping** the **Described_Duration, Description, and Date_Documented** columns"
   ]
  },
  {
   "cell_type": "code",
   "execution_count": null,
   "metadata": {},
   "outputs": [],
   "source": []
  },
  {
   "cell_type": "markdown",
   "metadata": {},
   "source": [
    "### As a Data Analyst, I want to convert the `Date_Time` column to utilize Pandas' DateTime data type"
   ]
  },
  {
   "cell_type": "code",
   "execution_count": null,
   "metadata": {},
   "outputs": [],
   "source": []
  },
  {
   "cell_type": "markdown",
   "metadata": {},
   "source": [
    "## Data Visualization with Matplotlib"
   ]
  },
  {
   "cell_type": "markdown",
   "metadata": {},
   "source": [
    "### As a Data Analyst, I want to visualize the **frequency of different UFO shapes**, to determine which UFO shapes are most commonly encountered\n",
    "* I will use a **Bar Graph** to visualize this data\n",
    "* I will include a label for the X and Y axis\n",
    "* I will include a name for my chart"
   ]
  },
  {
   "cell_type": "code",
   "execution_count": null,
   "metadata": {},
   "outputs": [],
   "source": []
  },
  {
   "cell_type": "markdown",
   "metadata": {},
   "source": [
    "### As a Data Analyst, I want to visualize the **number of UFO encounters**, grouped by each decade, to see if there is a correlation between number of sightings and decade\n",
    "* I will use a **Bar Graph** to visualize this data\n",
    "* I will include a label for the X and Y axis\n",
    "* I will include a name for my chart"
   ]
  },
  {
   "cell_type": "code",
   "execution_count": null,
   "metadata": {},
   "outputs": [],
   "source": []
  },
  {
   "cell_type": "markdown",
   "metadata": {},
   "source": [
    "### As a Data Analyst, I want to create a **Line Graph** to visualize the **Frequency of UFO sightings, by hour of the day**\n",
    "* I will use a **Line Graph** to visualize this data\n",
    "* I will include a label for the X and Y axis\n",
    "* I will include a name for my chart"
   ]
  },
  {
   "cell_type": "code",
   "execution_count": null,
   "metadata": {},
   "outputs": [],
   "source": []
  },
  {
   "cell_type": "markdown",
   "metadata": {},
   "source": [
    "### As a Data Analyst, I want to answer all questions in the following Markdown block to provide a **clear and detailed analysis of my UFO sighting findings**"
   ]
  },
  {
   "cell_type": "markdown",
   "metadata": {},
   "source": [
    "1. Which UFO shape is the most frequently reported? \n",
    "    * Q1 Answer\n",
    "\n",
    "2. Which shape is least frequently reported?\n",
    "    * Q2 Answer\n",
    "\n",
    "3. Based on your analysis, what times of the day have the highest number of UFO sightings? \n",
    "    * Q3 Answer\n",
    "\n",
    "4. Are there other factors that may account for this pattern in the data?\n",
    "    * Q4 Answer\n",
    "\n",
    "5. Do you see any surprising trends in the breakdown by decade? Do you have any theories or ideas that may explain these patterns?\n",
    "    * Q5 Answer\n",
    "\n",
    "6. Based on your data analysis, what recommendation would you give to individuals interested in encountering a UFO?\n",
    "    * For example, what time would be best to look, what UFO shapes should they expect to see, etc.\n",
    "    * Q6 Answer\n"
   ]
  },
  {
   "cell_type": "markdown",
   "metadata": {},
   "source": [
    "### **Bonus:** As a Data Analyst, I want to visualize the frequency of **different UFO shape sightings for Virginia, Wisconsin, and Tennessee**, to see if there is any variation of UFO shape frequency between states\n",
    "* I will use a **Grouped Bar Graph** to visualize this data\n",
    "* I will include a label for the X and Y axis\n",
    "* I will include a name for my chart"
   ]
  },
  {
   "cell_type": "code",
   "execution_count": null,
   "metadata": {},
   "outputs": [],
   "source": []
  }
 ],
 "metadata": {
  "kernelspec": {
   "display_name": "Python 3.10.5 64-bit",
   "language": "python",
   "name": "python3"
  },
  "language_info": {
   "codemirror_mode": {
    "name": "ipython",
    "version": 3
   },
   "file_extension": ".py",
   "mimetype": "text/x-python",
   "name": "python",
   "nbconvert_exporter": "python",
   "pygments_lexer": "ipython3",
   "version": "3.10.5"
  },
  "orig_nbformat": 4,
  "vscode": {
   "interpreter": {
    "hash": "991b4f12e3cd7e62d84ec965b56412c4354ac1fe6297d96f50a80e713193dd77"
   }
  }
 },
 "nbformat": 4,
 "nbformat_minor": 2
}
